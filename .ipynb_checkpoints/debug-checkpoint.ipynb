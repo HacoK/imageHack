{
 "cells": [
  {
   "cell_type": "code",
   "execution_count": 1,
   "metadata": {},
   "outputs": [
    {
     "name": "stderr",
     "output_type": "stream",
     "text": [
      "Using TensorFlow backend.\n"
     ]
    }
   ],
   "source": [
    "import keras\n",
    "import numpy as np\n",
    "import time\n",
    "\n",
    "from foolbox.models import KerasModel\n",
    "from foolbox.attacks import AdditiveUniformNoiseAttack\n",
    "from foolbox.criteria import OriginalClassProbability, Misclassification, ConfidentMisclassification\n",
    "\n",
    "from skimage.measure import compare_ssim as ssim"
   ]
  },
  {
   "cell_type": "code",
   "execution_count": 2,
   "metadata": {},
   "outputs": [],
   "source": [
    "# load data\n",
    "fashion_mnist = keras.datasets.fashion_mnist\n",
    "(train_images, train_labels), (test_images, test_labels) = fashion_mnist.load_data()\n",
    "train_images = np.expand_dims(train_images, axis=3)\n",
    "test_images = np.expand_dims(test_images, axis=3)\n",
    "train_images = train_images / 255.0\n",
    "test_images = test_images / 255.0"
   ]
  },
  {
   "cell_type": "code",
   "execution_count": 3,
   "metadata": {},
   "outputs": [
    {
     "name": "stdout",
     "output_type": "stream",
     "text": [
      "WARNING:tensorflow:From d:\\python3.7.0\\lib\\site-packages\\tensorflow\\python\\framework\\op_def_library.py:263: colocate_with (from tensorflow.python.framework.ops) is deprecated and will be removed in a future version.\n",
      "Instructions for updating:\n",
      "Colocations handled automatically by placer.\n",
      "WARNING:tensorflow:From d:\\python3.7.0\\lib\\site-packages\\keras\\backend\\tensorflow_backend.py:3445: calling dropout (from tensorflow.python.ops.nn_ops) with keep_prob is deprecated and will be removed in a future version.\n",
      "Instructions for updating:\n",
      "Please use `rate` instead of `keep_prob`. Rate should be set to `rate = 1 - keep_prob`.\n",
      "WARNING:tensorflow:From d:\\python3.7.0\\lib\\site-packages\\tensorflow\\python\\ops\\math_ops.py:3066: to_int32 (from tensorflow.python.ops.math_ops) is deprecated and will be removed in a future version.\n",
      "Instructions for updating:\n",
      "Use tf.cast instead.\n"
     ]
    }
   ],
   "source": [
    "# load model\n",
    "trained_model = keras.models.load_model('fashionMNIST.h5')\n",
    "cnn5 = keras.models.load_model('cnn5.h5')\n",
    "sub_model = KerasModel(trained_model, bounds=(0, 1), channel_axis=1)"
   ]
  },
  {
   "cell_type": "code",
   "execution_count": null,
   "metadata": {},
   "outputs": [],
   "source": [
    "# start attack\n",
    "def aiTest(batch, shape):\n",
    "    startTime = time.time()\n",
    "    generate_images = []\n",
    "    \n",
    "    local_batch_predictions = trained_model.predict(batch)\n",
    "    \n",
    "    for i in range(shape[0]):\n",
    "        \n",
    "        if i % 50 == 0:\n",
    "            print(\"{:3d}\".format(i // 50), end=\": \")\n",
    "        print(i % 50, end=\" \")\n",
    "        if i % 50 == 49:\n",
    "            print()\n",
    "\n",
    "        \n",
    "        image = batch[i]\n",
    "        image_label = int(np.argmax(local_batch_predictions[i]))\n",
    "\n",
    "        adv = None\n",
    "\n",
    "        if adv is None:\n",
    "            attack = AdditiveUniformNoiseAttack(model=sub_model, criterion=OriginalClassProbability(0.1))\n",
    "            adv = attack(image, image_label)\n",
    "\n",
    "        if adv is None:\n",
    "            attack = AdditiveUniformNoiseAttack(model=sub_model, criterion=ConfidentMisclassification(0.9))\n",
    "            adv = attack(image, image_label)\n",
    "\n",
    "        if adv is None:\n",
    "            attack = AdditiveUniformNoiseAttack(model=sub_model, criterion=Misclassification())\n",
    "            adv = attack(image, image_label)\n",
    "\n",
    "        if adv is None:\n",
    "            adv = train_images[np.random.randint(60000)]\n",
    "        \n",
    "        generate_images.append(adv)\n",
    "    \n",
    "    endTime = time.time() - startTime\n",
    "    print(\"\\nused time: \", endTime)\n",
    "    return np.array(generate_images)"
   ]
  },
  {
   "cell_type": "code",
   "execution_count": null,
   "metadata": {},
   "outputs": [],
   "source": [
    "# test pics\n",
    "def get_test_batch(testNum):\n",
    "    randArray = np.random.choice(10000, testNum, replace=False)\n",
    "    batch = []\n",
    "    for i in range(len(randArray)):\n",
    "        image_id = randArray[i] \n",
    "        image = test_images[i]\n",
    "        batch.append(image)\n",
    "    return np.array(batch)\n",
    "\n",
    "# self test\n",
    "def self_test():\n",
    "    testNum = 100\n",
    "    \n",
    "    batch = get_test_batch(testNum)\n",
    "    remote_batch_predictions = cnn5.predict(batch)\n",
    "    remote_predicted_labels = np.argmax(remote_batch_predictions, axis=1)\n",
    "        \n",
    "\n",
    "    adv_batch = aiTest(batch, (testNum, 28, 28, 1))\n",
    "    remote_adv_batch_predictions = cnn5.predict(adv_batch)\n",
    "    remote_adv_predicted_labels = np.argmax(remote_adv_batch_predictions, axis=1)\n",
    "\n",
    "    attackBitmap = np.where(remote_predicted_labels != remote_adv_predicted_labels, 1, 0)\n",
    "    attackSSIM = np.zeros(testNum)\n",
    "    for i in range(testNum):\n",
    "        original = batch[i]\n",
    "        adv = adv_batch[i]\n",
    "        attackSSIM[i] = ssim(original[:,:,0], adv[:,:,0])\n",
    "        \n",
    "    print(\"mean hacked rate:\", np.mean(attackBitmap))\n",
    "    print(\"mean hacked ssim:\", np.dot(attackBitmap, attackSSIM)/testNum)\n",
    "    print(attackBitmap * attackSSIM)"
   ]
  },
  {
   "cell_type": "code",
   "execution_count": null,
   "metadata": {},
   "outputs": [],
   "source": [
    "self_test()"
   ]
  }
 ],
 "metadata": {
  "kernelspec": {
   "display_name": "Python 3",
   "language": "python",
   "name": "python3"
  },
  "language_info": {
   "codemirror_mode": {
    "name": "ipython",
    "version": 3
   },
   "file_extension": ".py",
   "mimetype": "text/x-python",
   "name": "python",
   "nbconvert_exporter": "python",
   "pygments_lexer": "ipython3",
   "version": "3.7.0"
  }
 },
 "nbformat": 4,
 "nbformat_minor": 4
}
